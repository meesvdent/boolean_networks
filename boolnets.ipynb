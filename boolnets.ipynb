{
 "cells": [
  {
   "cell_type": "markdown",
   "metadata": {},
   "source": [
    "# Boolnets"
   ]
  },
  {
   "cell_type": "markdown",
   "metadata": {},
   "source": [
    "## Import BoolNet class"
   ]
  },
  {
   "cell_type": "code",
   "execution_count": 13,
   "metadata": {},
   "outputs": [
    {
     "data": {
      "text/plain": [
       "<module 'models' from '/Users/meesvdent/Developer/networks/models.py'>"
      ]
     },
     "execution_count": 13,
     "metadata": {},
     "output_type": "execute_result"
    }
   ],
   "source": [
    "import importlib\n",
    "\n",
    "import models\n",
    "from models import BoolNet\n",
    "\n",
    "importlib.reload(models)"
   ]
  },
  {
   "cell_type": "markdown",
   "metadata": {},
   "source": [
    "## Initialization\n",
    "  \n",
    "Create a simple boolean network consisting of 3 nodes: a, b and c.  \n",
    "The nodes have the following connections: a activates b, b activates c and c activates a.  \n",
    "We give the model the initial state of [1, 0, 0], meaning that only node 1 is activated.  \n",
    "  \n",
    "Model can de depicted as following:  \n",
    "<pre>\n",
    "  b  \n",
    " ➚ ↘︎  \n",
    "a ← c  \n",
    "</pre>\n",
    "  \n",
    "  \n",
    "To initialize a model, a number of arguments should be given:\n",
    "* nodes: an array of length n concisting of the names for each node;\n",
    "* connections: an array concisting of each connection in the form of: [node from which connection is made, node to which connection is made, type of connection (activating or deactivating)]\n",
    "* initial state of system: array of length n consisting of either 1's or 0's. \n",
    "  \n",
    "  \n",
    "The __init__ functions creates:  \n",
    "* the connections matrix c: a nxn matrix containing every possible connection $c_{i,j}$ from a node $n_{i}$ to a node $n_{j}$. Value of 1 indicicates an activating connection, value of -1 indicates an inhibiting connection, value of 0 incicates no connection.\n",
    "* a dictionary containing the string containing the name of the node $n_{i}$, and value the index of the node i on either the row or column of the connection matrix.\n",
    "\n",
    "The __str__ function returns:\n",
    "* the node dictionary containing the name of each node and its index $(i = j)$ in the connection matrix c\n",
    "* the connection matrix containing connections between all nodes."
   ]
  },
  {
   "cell_type": "code",
   "execution_count": 14,
   "metadata": {},
   "outputs": [],
   "source": [
    "n = BoolNet(\n",
    "    nodes=['a', 'b', 'c'],\n",
    "    connections=[['a', 'b', 'act'], ['b', 'c', 'act'], ['c', 'a', 'act']],\n",
    "    init_state=[1, 0, 0]\n",
    ")"
   ]
  },
  {
   "cell_type": "code",
   "execution_count": 15,
   "metadata": {},
   "outputs": [
    {
     "name": "stdout",
     "output_type": "stream",
     "text": [
      "Nodes:\n",
      " {'a': 0, 'b': 1, 'c': 2} \n",
      "\n",
      "Connections: \n",
      "[[0 1 0]\n",
      " [0 0 1]\n",
      " [1 0 0]]\n"
     ]
    }
   ],
   "source": [
    "print(n)"
   ]
  },
  {
   "cell_type": "markdown",
   "metadata": {},
   "source": [
    "## Modifying networks\n",
    "\n",
    "Networks can be modified using **add_node** and **add_connections** functions as such."
   ]
  },
  {
   "cell_type": "code",
   "execution_count": 16,
   "metadata": {},
   "outputs": [],
   "source": [
    "n.add_node('d')\n",
    "n.add_node('e')\n",
    "\n",
    "n.add_connections([['c', 'd', 'act'], ['d', 'e', 'act'], ['e', 'a', 'inh']])"
   ]
  },
  {
   "cell_type": "code",
   "execution_count": 17,
   "metadata": {},
   "outputs": [
    {
     "name": "stdout",
     "output_type": "stream",
     "text": [
      "Nodes:\n",
      " {'a': 0, 'b': 1, 'c': 2, 'd': 3, 'e': 4} \n",
      "\n",
      "Connections: \n",
      "[[ 0.  1.  0.  0.  0.]\n",
      " [ 0.  0.  1.  0.  0.]\n",
      " [ 1.  0.  0.  1.  0.]\n",
      " [ 0.  0.  0.  0.  1.]\n",
      " [-1.  0.  0.  0.  0.]]\n"
     ]
    }
   ],
   "source": [
    "print(n)"
   ]
  },
  {
   "cell_type": "markdown",
   "metadata": {},
   "source": [
    "## Calculating path\n",
    "\n",
    "To calculate the state of the system at step k+1, the state at step k is multiplied with the connection matrix. In the resulting matrix R, each $R_{n}$>0 is transformed to 1, each $R_{n}$<0 is transformed to 0. This state is saved in the state_array.\n",
    "This is repeated from the initial state $R_{0}$ untill the state k+1 is already in the 'state_array' or the max number of steps (n_steps, automatically set to 100) is met."
   ]
  },
  {
   "cell_type": "code",
   "execution_count": 18,
   "metadata": {},
   "outputs": [
    {
     "name": "stdout",
     "output_type": "stream",
     "text": [
      "[[1 0 0 0 0]\n",
      " [0 1 0 0 0]\n",
      " [0 0 1 0 0]\n",
      " [1 0 0 1 0]\n",
      " [0 1 0 0 1]\n",
      " [0 0 1 0 0]]\n"
     ]
    }
   ],
   "source": [
    "print(n.run_steps())"
   ]
  },
  {
   "cell_type": "code",
   "execution_count": null,
   "metadata": {},
   "outputs": [],
   "source": []
  }
 ],
 "metadata": {
  "kernelspec": {
   "display_name": "Python 3",
   "language": "python",
   "name": "python3"
  },
  "language_info": {
   "codemirror_mode": {
    "name": "ipython",
    "version": 3
   },
   "file_extension": ".py",
   "mimetype": "text/x-python",
   "name": "python",
   "nbconvert_exporter": "python",
   "pygments_lexer": "ipython3",
   "version": "3.6.4"
  }
 },
 "nbformat": 4,
 "nbformat_minor": 2
}
